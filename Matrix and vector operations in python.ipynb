{
 "cells": [
  {
   "cell_type": "code",
   "execution_count": 2,
   "metadata": {},
   "outputs": [],
   "source": [
    "import numpy as np"
   ]
  },
  {
   "cell_type": "code",
   "execution_count": 6,
   "metadata": {},
   "outputs": [
    {
     "name": "stdout",
     "output_type": "stream",
     "text": [
      "[[11 12 13]\n",
      " [21 22 23]]\n",
      "(2, 3)\n",
      "[[1 2 3]\n",
      " [2 2 3]]\n",
      "(2, 3)\n"
     ]
    }
   ],
   "source": [
    "'''Matrix Operation'''\n",
    "a_2d_ist = [[11, 12, 13],[21, 22, 23]]\n",
    "matrix_1 = np.array(a_2d_ist)\n",
    "print(matrix_1)\n",
    "print(matrix_1.shape)\n",
    "\n",
    "a_2d_ist = [[1, 2, 3],[2, 2, 3]]\n",
    "matrix_2 = np.array(a_2d_ist)\n",
    "print(matrix_2)\n",
    "print(matrix_2.shape)"
   ]
  },
  {
   "cell_type": "code",
   "execution_count": 4,
   "metadata": {},
   "outputs": [
    {
     "name": "stdout",
     "output_type": "stream",
     "text": [
      "[[11 12 13]\n",
      " [21 22 23]]\n",
      "New Matrix\n",
      "[[22 24 26]\n",
      " [42 44 46]]\n"
     ]
    }
   ],
   "source": [
    "#Scalar multiplication\n",
    "var = 2\n",
    "new_matrix = matrix_1*var\n",
    "print(matrix_1)\n",
    "print('New Matrix')\n",
    "print(new_matrix)"
   ]
  },
  {
   "cell_type": "code",
   "execution_count": 5,
   "metadata": {},
   "outputs": [
    {
     "name": "stdout",
     "output_type": "stream",
     "text": [
      "Matrix addition\n",
      "[[12 14 16]\n",
      " [23 24 26]]\n",
      "Matrix Subtraction\n",
      "[[10 10 10]\n",
      " [19 20 20]]\n"
     ]
    }
   ],
   "source": [
    "#Matrix addition and SUbtraction \n",
    "new_matrix_add = matrix_1 + matrix_2\n",
    "new_matrix_sub = matrix_1 - matrix_2\n",
    "\n",
    "print('Matrix addition')\n",
    "print(new_matrix_add)\n",
    "print('Matrix Subtraction')\n",
    "print(new_matrix_sub)"
   ]
  },
  {
   "cell_type": "code",
   "execution_count": 7,
   "metadata": {},
   "outputs": [
    {
     "name": "stdout",
     "output_type": "stream",
     "text": [
      "Matrix 1\n",
      "[[11 12 13]\n",
      " [21 22 23]]\n",
      "Matrix 1 .T\n",
      "[[11 21]\n",
      " [12 22]\n",
      " [13 23]]\n"
     ]
    }
   ],
   "source": [
    "#Matrix Transpose \n",
    "new_matrix_Transpose = matrix_1.T\n",
    "print('Matrix 1')\n",
    "print(matrix_1)\n",
    "print('Matrix 1 .T')\n",
    "print(new_matrix_Transpose)"
   ]
  },
  {
   "cell_type": "code",
   "execution_count": 9,
   "metadata": {},
   "outputs": [
    {
     "name": "stdout",
     "output_type": "stream",
     "text": [
      "[[ 74  85]\n",
      " [134 155]]\n"
     ]
    }
   ],
   "source": [
    "#Matrix multiplication \n",
    "new_mat_mul = matrix_1.dot(matrix_2.T)\n",
    "print(new_mat_mul)"
   ]
  },
  {
   "cell_type": "code",
   "execution_count": 10,
   "metadata": {},
   "outputs": [
    {
     "name": "stdout",
     "output_type": "stream",
     "text": [
      "5.0\n"
     ]
    }
   ],
   "source": [
    "#Norm of a vector \n",
    "import math\n",
    "a_vector = np.array([3, 4])\n",
    "l2_norm = np.linalg.norm(a_vector, 2) #2 - power 2\n",
    "print(l2_norm)"
   ]
  },
  {
   "cell_type": "code",
   "execution_count": 12,
   "metadata": {},
   "outputs": [
    {
     "name": "stdout",
     "output_type": "stream",
     "text": [
      "-2.0000000000000004\n"
     ]
    }
   ],
   "source": [
    "#Determinant of a matrix\n",
    "matrix_new = np.array([[1, 2],[3, 4]])\n",
    "det = np.linalg.det(matrix_new)\n",
    "print(det)"
   ]
  },
  {
   "cell_type": "code",
   "execution_count": 13,
   "metadata": {},
   "outputs": [
    {
     "name": "stdout",
     "output_type": "stream",
     "text": [
      "[[-2.   1. ]\n",
      " [ 1.5 -0.5]]\n"
     ]
    }
   ],
   "source": [
    "#Inverse of a matrix\n",
    "matrix_new = np.array([[1, 2],[3, 4]])\n",
    "inv = np.linalg.inv(matrix_new)\n",
    "print(inv)"
   ]
  },
  {
   "cell_type": "code",
   "execution_count": 15,
   "metadata": {},
   "outputs": [
    {
     "name": "stdout",
     "output_type": "stream",
     "text": [
      "[[1 0]\n",
      " [0 1]]\n"
     ]
    }
   ],
   "source": [
    "#Check orthogonal matrix\n",
    "matrix_new = np.array([[1, 0],[0, -1]])\n",
    "ortho_matrix = matrix_new.dot(matrix_new.T)\n",
    "print(ortho_matrix)"
   ]
  },
  {
   "cell_type": "code",
   "execution_count": 29,
   "metadata": {},
   "outputs": [
    {
     "name": "stdout",
     "output_type": "stream",
     "text": [
      "a_mat\n",
      "[[3 4]\n",
      " [1 2]]\n",
      "P\n",
      "[[1. 0.]\n",
      " [0. 1.]]\n",
      "L\n",
      "[[1.         0.        ]\n",
      " [0.33333333 1.        ]]\n",
      "U\n",
      "[[3.         4.        ]\n",
      " [0.         0.66666667]]\n",
      "[[3. 4.]\n",
      " [1. 2.]]\n",
      "[[3. 4.]\n",
      " [1. 2.]]\n"
     ]
    }
   ],
   "source": [
    "#LU decomposition \n",
    "import scipy.linalg as la\n",
    "a_mat =np.array([[3, 4],[1, 2]])\n",
    "print('a_mat')\n",
    "print(a_mat)\n",
    "P, L, U = la.lu(a_mat)\n",
    "print('P')\n",
    "print(P)\n",
    "print('L')\n",
    "print(L)\n",
    "print('U')\n",
    "print(U)\n",
    "\n",
    "re_matrix = P.dot(L).dot(U)\n",
    "print(re_matrix)\n",
    "\n",
    "re_matrix_1 = L.dot(U)\n",
    "print(re_matrix_1)"
   ]
  },
  {
   "cell_type": "code",
   "execution_count": 32,
   "metadata": {},
   "outputs": [
    {
     "name": "stdout",
     "output_type": "stream",
     "text": [
      "[ 6.68969025e+01+0.j -8.96902513e-01+0.j  3.91097365e-15+0.j]\n",
      "[[-0.29902183 -0.72775928  0.40824829]\n",
      " [-0.54214941 -0.02112604 -0.81649658]\n",
      " [-0.785277    0.6855072   0.40824829]]\n"
     ]
    }
   ],
   "source": [
    "#Eigen values and vectors\n",
    "a_mat =np.array([[11, 12, 13],[21, 22, 23],[31, 32, 33]])\n",
    "values, vectors = la.eig(a_mat)\n",
    "print(values)\n",
    "print(vectors)"
   ]
  },
  {
   "cell_type": "code",
   "execution_count": null,
   "metadata": {},
   "outputs": [],
   "source": []
  }
 ],
 "metadata": {
  "kernelspec": {
   "display_name": "Python 3",
   "language": "python",
   "name": "python3"
  },
  "language_info": {
   "codemirror_mode": {
    "name": "ipython",
    "version": 3
   },
   "file_extension": ".py",
   "mimetype": "text/x-python",
   "name": "python",
   "nbconvert_exporter": "python",
   "pygments_lexer": "ipython3",
   "version": "3.7.0"
  }
 },
 "nbformat": 4,
 "nbformat_minor": 2
}
